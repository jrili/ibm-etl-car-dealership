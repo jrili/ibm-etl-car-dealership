{
 "cells": [
  {
   "cell_type": "markdown",
   "id": "186c032c",
   "metadata": {},
   "source": [
    "# ETL Project: Car Dealership Data"
   ]
  },
  {
   "cell_type": "markdown",
   "id": "032b7965-7f46-4a21-ae0b-350909269934",
   "metadata": {},
   "source": [
    "_Instructions and dataset taken from IBM's [Python Project for Data Engineering](https://www.coursera.org/learn/python-project-for-data-engineering) from Coursera_"
   ]
  },
  {
   "cell_type": "markdown",
   "id": "15cef719-c4c0-41da-9a8a-3781b6c96c1b",
   "metadata": {},
   "source": [
    "# Objectives\n",
    "- Read CSV, JSON, and XML file types.\n",
    "- Extract the required data from the different file types.\n",
    "- Transform data to the required format.\n",
    "- Save the transformed data in a ready-to-load format, which can be loaded into an RDBMS."
   ]
  },
  {
   "attachments": {
    "image.png": {
     "image/png": "[encoded data removed]"
    }
   },
   "cell_type": "markdown",
   "id": "956b4eb8-a8bb-47db-b99f-ab5812d563a8",
   "metadata": {},
   "source": [
    "# Prerequisite Steps\n",
    "## 1.  Gather the data files\n",
    "\n",
    "```bash\n",
    "wget https://cf-courses-data.s3.us.cloud-object-storage.appdomain.cloud/IBMDeveloperSkillsNetwork-PY0221EN-SkillsNetwork/labs/module%206/Lab%20-%20Extract%20Transform%20Load/data/datasource.zip\n",
    "```\n",
    "\n",
    "> [!NOTE]\n",
    "> In case of unavailability, a snapshot of datasource.zip is also available in the root directory.\n",
    "> Date of snapshot: `2025 Mar 24`\n",
    "\n",
    "## 2. Unzip the downloaded file into a directory named `datasource`\n",
    "\n",
    "```bash\n",
    "unzip source.zip -d datasource\n",
    "```\n",
    "\n",
    "After extraction, the `datasource` directory is expected to have three(3) CSV files, three(3) JSON files, and three(3) XML files.\n",
    "\n",
    "![image.png](attachment:image.png)\n",
    "\n",
    "## 3. Install required libraries\n",
    "\n",
    "```bash\n",
    "python -m pip install -r requirements.txt\n",
    "```"
   ]
  },
  {
   "cell_type": "markdown",
   "id": "64636d3e-f805-4ddf-947d-4774094d8ef8",
   "metadata": {},
   "source": [
    "Import the necessary libraries"
   ]
  },
  {
   "cell_type": "code",
   "execution_count": 3,
   "id": "44d3a37b-6436-4068-945d-d6ac24d7265b",
   "metadata": {},
   "outputs": [],
   "source": [
    "# for iterating to files in a directory\n",
    "import glob \n",
    "\n",
    "# for data frame compilation and utilities\n",
    "import pandas as pd \n",
    "\n",
    "# for parsing XML files\n",
    "import xml.etree.ElementTree as ET \n",
    "\n",
    "# for log timestamps\n",
    "from datetime import datetime \n",
    "\n",
    "# for deleting the log file and output file, if existing, before the whole ETL process is run\n",
    "import os"
   ]
  },
  {
   "cell_type": "markdown",
   "id": "03e4f2de",
   "metadata": {},
   "source": [
    "Define some constants to be used for the rest of the notebook:\n",
    "\n",
    "`TARGET_OUTPUT_FILE`: filename of output file\n",
    "\n",
    "`LOG_FILE`: filename of event log file"
   ]
  },
  {
   "cell_type": "code",
   "execution_count": 4,
   "id": "9bfca238",
   "metadata": {},
   "outputs": [],
   "source": [
    "TARGET_OUTPUT_FILE = \"transformed_data.csv\"\n",
    "LOG_FILE = \"log_file.txt\""
   ]
  },
  {
   "cell_type": "markdown",
   "id": "466d3799",
   "metadata": {},
   "source": [
    "Delete target output file and log file, if existing, to start each run with a clean slate"
   ]
  },
  {
   "cell_type": "code",
   "execution_count": 5,
   "id": "69fc6aa4",
   "metadata": {},
   "outputs": [],
   "source": [
    "if os.path.exists(TARGET_OUTPUT_FILE):\n",
    "    os.remove(TARGET_OUTPUT_FILE)\n",
    "\n",
    "if os.path.exists(LOG_FILE):\n",
    "    os.remove(LOG_FILE)"
   ]
  },
  {
   "cell_type": "markdown",
   "id": "bab2ea49-ec5b-4561-a4c7-709643dd0668",
   "metadata": {},
   "source": [
    "# Project Task 1: Define logging method\n",
    "Develop a logging method `log()` that logs a message prefixed with a timestamp and appends it to the file with filename `LOG_FILE` previously defined."
   ]
  },
  {
   "cell_type": "code",
   "execution_count": 6,
   "id": "f8d6abbc-62be-4a16-a155-d55968b08b03",
   "metadata": {},
   "outputs": [],
   "source": [
    "def log(msg):\n",
    "    timestamp_format = \"%Y-%h-%d-%H:%M:%S\"\n",
    "    now = datetime.now()\n",
    "    timestamp_str = now.strftime(timestamp_format)\n",
    "\n",
    "    with open(LOG_FILE, \"a\") as f:\n",
    "        log_str = timestamp_str + \",\" + msg + \"\\n\"\n",
    "        f.write(log_str)"
   ]
  },
  {
   "cell_type": "markdown",
   "id": "d4cdf552-de48-416d-98cc-8c0936f592b9",
   "metadata": {},
   "source": [
    "# Project Task 2: Define extract methods\n",
    "Develop extract methods for the different file formats to be processed in the dataset.\n"
   ]
  },
  {
   "cell_type": "markdown",
   "id": "85bce98a-9cea-4f53-85df-fd735c28385f",
   "metadata": {},
   "source": [
    "## Extracting from CSV files\n",
    "**CSV** means comma-separated values. Taking a closer look at one of the input CSV files, we see that the first line contains names of the headers/columns. The headers are then immediately followed by values separated by commas:"
   ]
  },
  {
   "cell_type": "code",
   "execution_count": 7,
   "id": "96b0d873",
   "metadata": {},
   "outputs": [
    {
     "name": "stdout",
     "output_type": "stream",
     "text": [
      "car_model,year_of_manufacture,price,fuel\n",
      "ritz,2014,5000.0,Petrol\n",
      "sx4,2013,7089.55223880597,Diesel\n",
      "ciaz,2017,10820.89552238806,Petrol\n",
      "wagon r,2011,4253.731343283582,Petrol\n",
      "swift,2014,6865.671641791044,Diesel\n",
      "vitara brezza,2018,13805.970149253732,Diesel\n",
      "ciaz,2015,10074.626865671642,Petrol\n",
      "s cross,2015,9701.492537313432,Diesel\n",
      "ciaz,2016,13059.701492537313,Diesel\n",
      "ciaz,2015,11119.402985074626,Diesel\n",
      "\n"
     ]
    }
   ],
   "source": [
    "# Print contents of one of the input CSV files:\n",
    "with open('datasource/used_car_prices1.csv', 'r') as file:\n",
    "    print(file.read())"
   ]
  },
  {
   "cell_type": "markdown",
   "id": "0c62842f",
   "metadata": {},
   "source": [
    "Pandas `read_csv()` method can be used straightforwardly to output a dataframe. This useful method also is able to get the column names from the header."
   ]
  },
  {
   "cell_type": "code",
   "execution_count": 8,
   "id": "0b798e99-f56d-4ecb-b0b8-d7e60a35d1c2",
   "metadata": {},
   "outputs": [],
   "source": [
    "def extract_from_csv(file_to_process):\n",
    "    log(f\"In extract_from_csv(): Extracting from file '{file_to_process}'\")\n",
    "    dataframe = pd.read_csv(file_to_process)\n",
    "    return dataframe"
   ]
  },
  {
   "cell_type": "markdown",
   "id": "448c4208",
   "metadata": {},
   "source": [
    "Calling the method above produces a dataframe that looks like:"
   ]
  },
  {
   "cell_type": "code",
   "execution_count": 9,
   "id": "3da94574",
   "metadata": {},
   "outputs": [
    {
     "name": "stdout",
     "output_type": "stream",
     "text": [
      "       car_model  year_of_manufacture         price    fuel\n",
      "0           ritz                 2014   5000.000000  Petrol\n",
      "1            sx4                 2013   7089.552239  Diesel\n",
      "2           ciaz                 2017  10820.895522  Petrol\n",
      "3        wagon r                 2011   4253.731343  Petrol\n",
      "4          swift                 2014   6865.671642  Diesel\n",
      "5  vitara brezza                 2018  13805.970149  Diesel\n",
      "6           ciaz                 2015  10074.626866  Petrol\n",
      "7        s cross                 2015   9701.492537  Diesel\n",
      "8           ciaz                 2016  13059.701493  Diesel\n",
      "9           ciaz                 2015  11119.402985  Diesel\n"
     ]
    }
   ],
   "source": [
    "print(extract_from_csv('datasource/used_car_prices1.csv'))"
   ]
  },
  {
   "cell_type": "markdown",
   "id": "f4ae5b2f-f760-48d8-8c03-020f31b19a7d",
   "metadata": {},
   "source": [
    "## Extracting from JSON files\n",
    "**JSON** means Javascript Object Notation and is a human-readable open standard file format and data interchange format. Generally comprised of key and value pairs (not dissimilar to a Python Dictionary), the values can be single values or a list.\n",
    "Sample from one of the input JSON files are shown below:"
   ]
  },
  {
   "cell_type": "code",
   "execution_count": 10,
   "id": "19849ccf",
   "metadata": {},
   "outputs": [
    {
     "name": "stdout",
     "output_type": "stream",
     "text": [
      "{\"car_model\":\"ritz\",\"year_of_manufacture\":2012,\"price\":4626.8656716418,\"fuel\":\"Diesel\"}\n",
      "{\"car_model\":\"ritz\",\"year_of_manufacture\":2011,\"price\":3507.4626865672,\"fuel\":\"Petrol\"}\n",
      "{\"car_model\":\"swift\",\"year_of_manufacture\":2014,\"price\":7388.0597014925,\"fuel\":\"Diesel\"}\n",
      "{\"car_model\":\"ertiga\",\"year_of_manufacture\":2014,\"price\":8955.223880597,\"fuel\":\"Diesel\"}\n",
      "{\"car_model\":\"dzire\",\"year_of_manufacture\":2014,\"price\":8208.9552238806,\"fuel\":\"Diesel\"}\n",
      "{\"car_model\":\"sx4\",\"year_of_manufacture\":2011,\"price\":4402.9850746269,\"fuel\":\"CNG\"}\n",
      "{\"car_model\":\"dzire\",\"year_of_manufacture\":2015,\"price\":6940.2985074627,\"fuel\":\"Petrol\"}\n",
      "{\"car_model\":\"800\",\"year_of_manufacture\":2003,\"price\":522.3880597015,\"fuel\":\"Petrol\"}\n",
      "{\"car_model\":\"alto k10\",\"year_of_manufacture\":2016,\"price\":4477.6119402985,\"fuel\":\"Petrol\"}\n",
      "{\"car_model\":\"sx4\",\"year_of_manufacture\":2003,\"price\":3358.2089552239,\"fuel\":\"Petrol\"}\n",
      "\n"
     ]
    }
   ],
   "source": [
    "# Print contents of one of the input JSON files:\n",
    "with open('datasource/used_car_prices1.json', 'r') as file:\n",
    "    print(file.read())"
   ]
  },
  {
   "cell_type": "markdown",
   "id": "78e01146",
   "metadata": {},
   "source": [
    "Similar to extracting CSV files, Pandas also has a straightforward method `read_json`."
   ]
  },
  {
   "cell_type": "code",
   "execution_count": 11,
   "id": "19b8bdd5-840f-47f9-a5b3-6a2e56af7b64",
   "metadata": {},
   "outputs": [],
   "source": [
    "def extract_from_json(file_to_process):\n",
    "    log(f\"In extract_from_json(): Extracting from file '{file_to_process}'\")\n",
    "    dataframe = pd.read_json(file_to_process, lines=True)\n",
    "    return dataframe"
   ]
  },
  {
   "cell_type": "markdown",
   "id": "69af93b1",
   "metadata": {},
   "source": [
    "Calling the method above produces a dataframe that looks like:"
   ]
  },
  {
   "cell_type": "code",
   "execution_count": 12,
   "id": "b44e28ef",
   "metadata": {},
   "outputs": [
    {
     "name": "stdout",
     "output_type": "stream",
     "text": [
      "  car_model  year_of_manufacture        price    fuel\n",
      "0      ritz                 2012  4626.865672  Diesel\n",
      "1      ritz                 2011  3507.462687  Petrol\n",
      "2     swift                 2014  7388.059701  Diesel\n",
      "3    ertiga                 2014  8955.223881  Diesel\n",
      "4     dzire                 2014  8208.955224  Diesel\n",
      "5       sx4                 2011  4402.985075     CNG\n",
      "6     dzire                 2015  6940.298507  Petrol\n",
      "7       800                 2003   522.388060  Petrol\n",
      "8  alto k10                 2016  4477.611940  Petrol\n",
      "9       sx4                 2003  3358.208955  Petrol\n"
     ]
    }
   ],
   "source": [
    "print(extract_from_json('datasource/used_car_prices1.json'))"
   ]
  },
  {
   "cell_type": "markdown",
   "id": "05420002-a546-410a-9084-aa298c6eec65",
   "metadata": {},
   "source": [
    "## Extracting from XML files\n",
    "**XML** or the Extensible Markup Language is a markup language and file format used for data exchange. It looks similar to HTML but instead ofuses custom-defined tags instead of pre-defined tags ones. This format is both human-readable and machine-readable.\n",
    "Shown below is a sample from one of our input XML files:"
   ]
  },
  {
   "cell_type": "code",
   "execution_count": 13,
   "id": "2ccaf374",
   "metadata": {},
   "outputs": [
    {
     "name": "stdout",
     "output_type": "stream",
     "text": [
      "<?xml version=\"1.0\" encoding=\"UTF-8\" ?>\n",
      "<root>\n",
      "  <row>\n",
      "    <car_model>corolla altis</car_model>\n",
      "    <year_of_manufacture>2013</year_of_manufacture>\n",
      "    <price>10373.134328358208</price>\n",
      "    <fuel>Petrol</fuel>\n",
      "  </row>\n",
      "  <row>\n",
      "    <car_model>etios cross</car_model>\n",
      "    <year_of_manufacture>2015</year_of_manufacture>\n",
      "    <price>6716.417910447762</price>\n",
      "    <fuel>Petrol</fuel>\n",
      "  </row>\n",
      "  <row>\n",
      "    <car_model>fortuner</car_model>\n",
      "    <year_of_manufacture>2014</year_of_manufacture>\n",
      "    <price>27985.074626865673</price>\n",
      "    <fuel>Diesel</fuel>\n",
      "  </row>\n",
      "  <row>\n",
      "    <car_model>fortuner</car_model>\n",
      "    <year_of_manufacture>2015</year_of_manufacture>\n",
      "    <price>35074.62686567164</price>\n",
      "    <fuel>Diesel</fuel>\n",
      "  </row>\n",
      "  <row>\n",
      "    <car_model>fortuner</car_model>\n",
      "    <year_of_manufacture>2017</year_of_manufacture>\n",
      "    <price>49253.73134328358</price>\n",
      "    <fuel>Diesel</fuel>\n",
      "  </row>\n",
      "  <row>\n",
      "    <car_model>etios liva</car_model>\n",
      "    <year_of_manufacture>2014</year_of_manufacture>\n",
      "    <price>7089.55223880597</price>\n",
      "    <fuel>Diesel</fuel>\n",
      "  </row>\n",
      "  <row>\n",
      "    <car_model>innova</car_model>\n",
      "    <year_of_manufacture>2017</year_of_manufacture>\n",
      "    <price>29477.611940298506</price>\n",
      "    <fuel>Petrol</fuel>\n",
      "  </row>\n",
      "  <row>\n",
      "    <car_model>fortuner</car_model>\n",
      "    <year_of_manufacture>2010</year_of_manufacture>\n",
      "    <price>13805.970149253732</price>\n",
      "    <fuel>Diesel</fuel>\n",
      "  </row>\n",
      "  <row>\n",
      "    <car_model>corolla altis</car_model>\n",
      "    <year_of_manufacture>2011</year_of_manufacture>\n",
      "    <price>6492.537313432835</price>\n",
      "    <fuel>Petrol</fuel>\n",
      "  </row>\n",
      "  <row>\n",
      "    <car_model>corolla altis</car_model>\n",
      "    <year_of_manufacture>2016</year_of_manufacture>\n",
      "    <price>21268.65671641791</price>\n",
      "    <fuel>Petrol</fuel>\n",
      "  </row>\n",
      "</root>\n"
     ]
    }
   ],
   "source": [
    "# Print contents of one of the input XML files:\n",
    "with open('datasource/used_car_prices1.xml', 'r') as file:\n",
    "    print(file.read())"
   ]
  },
  {
   "cell_type": "markdown",
   "id": "73d8f1b0",
   "metadata": {},
   "source": [
    "We see in the above sample that each node in the XML tree corresponds to a `row`, and that each row has a `car_model`, `year_of_manufacture`, `price`, and `fuel`.\n",
    "\n",
    "- First, get the tree object using `xml.etree.ElementTree`'s `parse()` method\n",
    "- Next, we get the tree's root with the `getroot()` method\n",
    "- From the root, we can traverse the tree in a loop as shown in the succeeding code block\n",
    "- Each `row` node parsed yields one(1) row which we store to a dictionary\n",
    "- Compile each parsed row into a list of dicts `rows_list`\n",
    "- Finally after all XML `row` nodes have been processed, create a Pandas DataFrame from `rows_list`"
   ]
  },
  {
   "cell_type": "code",
   "execution_count": 14,
   "id": "cf76180a-0b4d-45d6-9851-3a0156766a94",
   "metadata": {},
   "outputs": [],
   "source": [
    "def extract_from_xml(file_to_process):\n",
    "    log(f\"In extract_from_xml(): Extracting from file '{file_to_process}'\")\n",
    "    rows_list = []\n",
    "    tree = ET.parse(file_to_process)\n",
    "    root = tree.getroot()\n",
    "    for car in root:\n",
    "        car_model = str(car.find(\"car_model\").text)\n",
    "        year_of_manufacture = int(car.find(\"year_of_manufacture\").text)\n",
    "        price = float(car.find(\"price\").text)\n",
    "        fuel = car.find(\"fuel\").text\n",
    "\n",
    "        rows_list.append({\"car_model\":car_model, \"year_of_manufacture\":year_of_manufacture, \"price\":price, \"fuel\":fuel})\n",
    "\n",
    "    return pd.DataFrame.from_dict(rows_list)"
   ]
  },
  {
   "cell_type": "markdown",
   "id": "9a38c03f",
   "metadata": {},
   "source": [
    "Calling the method above produces a dataframe that looks like:"
   ]
  },
  {
   "cell_type": "code",
   "execution_count": 15,
   "id": "337d1d90",
   "metadata": {},
   "outputs": [
    {
     "name": "stdout",
     "output_type": "stream",
     "text": [
      "       car_model  year_of_manufacture         price    fuel\n",
      "0  corolla altis                 2013  10373.134328  Petrol\n",
      "1    etios cross                 2015   6716.417910  Petrol\n",
      "2       fortuner                 2014  27985.074627  Diesel\n",
      "3       fortuner                 2015  35074.626866  Diesel\n",
      "4       fortuner                 2017  49253.731343  Diesel\n",
      "5     etios liva                 2014   7089.552239  Diesel\n",
      "6         innova                 2017  29477.611940  Petrol\n",
      "7       fortuner                 2010  13805.970149  Diesel\n",
      "8  corolla altis                 2011   6492.537313  Petrol\n",
      "9  corolla altis                 2016  21268.656716  Petrol\n"
     ]
    }
   ],
   "source": [
    "print(extract_from_xml('datasource/used_car_prices1.xml'))"
   ]
  },
  {
   "cell_type": "markdown",
   "id": "6452ad36-2a3c-4d88-9e04-df4db408a924",
   "metadata": {},
   "source": [
    "## Extract all inputs\n",
    "After all file types have an extract method, let's create a main `extract()` method that calls all of them in turn to return a single consolidated Pandas DataFrame.\n",
    "\n",
    "Note that the indices in the partial dataframes shown previously restart from zero every time. To properly index the resulting extracted data frame, it is important to set the `ignore_index` argument to True when Pandas `concat()` is called."
   ]
  },
  {
   "cell_type": "code",
   "execution_count": 16,
   "id": "884cc67b-1fa9-4db6-a7d3-d83717853f7b",
   "metadata": {},
   "outputs": [],
   "source": [
    "def extract():\n",
    "    log(\"In extract(): started\")\n",
    "    # Initialize list of extracted dataframes\n",
    "    # to be populated as the script goes through the dataset files\n",
    "    extracted_dfs_list = []\n",
    "\n",
    "    # Process all CSV files\n",
    "    log(\"In extract(): start processing CSV files\")\n",
    "    for csvfile in glob.glob(\"datasource/*.csv\"):\n",
    "        extracted_dfs_list.append(extract_from_csv(csvfile))\n",
    "    log(\"In extract(): done processing CSV files\")\n",
    "\n",
    "    # Process all JSON files\n",
    "    log(\"In extract(): start processing JSON files\")\n",
    "    for jsonfile in glob.glob(\"datasource/*.json\"):\n",
    "        extracted_dfs_list.append(extract_from_json(jsonfile))\n",
    "    log(\"In extract(): done processing JSON files\")\n",
    "\n",
    "    # Process all XML files\n",
    "    log(\"In extract(): start processing XML files\")\n",
    "    for xmlfile in glob.glob(\"datasource/*.xml\"):\n",
    "        extracted_dfs_list.append(extract_from_xml(xmlfile))\n",
    "    log(\"In extract(): done processing XML files\")\n",
    "\n",
    "    # Concatenate all dataframes in the extracted_dfs_list\n",
    "    # into a single DataFrame\n",
    "    # Note that ignore_index is set to True so that the index is rebuilt with properly incrementing values\n",
    "    extracted_data = pd.concat(extracted_dfs_list, ignore_index=True)\n",
    "\n",
    "    log(\"In extract(): ended\")\n",
    "    return extracted_data"
   ]
  },
  {
   "cell_type": "markdown",
   "id": "03a2a94f",
   "metadata": {},
   "source": [
    "Afterwards, let's call the `extract()` method to produce the extracted dataframe `extracted_data` from all of the available input files."
   ]
  },
  {
   "cell_type": "code",
   "execution_count": 17,
   "id": "e2f83f8f-c16e-47f3-96d7-820a8ed2c838",
   "metadata": {},
   "outputs": [],
   "source": [
    "log(\"ETL Job Started\")\n",
    "extracted_data = extract()"
   ]
  },
  {
   "cell_type": "markdown",
   "id": "f2d9f8ec",
   "metadata": {},
   "source": [
    "Let's take a peek at our data after extraction:"
   ]
  },
  {
   "cell_type": "code",
   "execution_count": 18,
   "id": "26106d1f",
   "metadata": {},
   "outputs": [
    {
     "name": "stdout",
     "output_type": "stream",
     "text": [
      "<class 'pandas.core.frame.DataFrame'>\n",
      "RangeIndex: 90 entries, 0 to 89\n",
      "Data columns (total 4 columns):\n",
      " #   Column               Non-Null Count  Dtype  \n",
      "---  ------               --------------  -----  \n",
      " 0   car_model            90 non-null     object \n",
      " 1   year_of_manufacture  90 non-null     int64  \n",
      " 2   price                90 non-null     float64\n",
      " 3   fuel                 90 non-null     object \n",
      "dtypes: float64(1), int64(1), object(2)\n",
      "memory usage: 2.9+ KB\n",
      "None\n",
      "\n",
      "\n",
      "  car_model  year_of_manufacture         price    fuel\n",
      "0      ritz                 2014   5000.000000  Petrol\n",
      "1       sx4                 2013   7089.552239  Diesel\n",
      "2      ciaz                 2017  10820.895522  Petrol\n",
      "3   wagon r                 2011   4253.731343  Petrol\n",
      "4     swift                 2014   6865.671642  Diesel\n"
     ]
    }
   ],
   "source": [
    "print(extracted_data.info())\n",
    "print('\\n')\n",
    "print(extracted_data.head())"
   ]
  },
  {
   "cell_type": "markdown",
   "id": "6758f267",
   "metadata": {},
   "source": [
    "After extraction, we have 90 extracted data entries without any missing values\n",
    "\n",
    "The exercise did not call for removal of duplicates, so we assume at this point that each entry is for a different car."
   ]
  },
  {
   "cell_type": "markdown",
   "id": "f81e19b5",
   "metadata": {},
   "source": [
    "# Project Task 3: Define the Transform method\n",
    "\n",
    "The only column of interest in terms of transformation is the `price` column. The exercise material requires them to be rounded to two (2) decimal places only.\n",
    "\n",
    "Below is the `transform()` method:"
   ]
  },
  {
   "cell_type": "code",
   "execution_count": 19,
   "id": "fefdedf9",
   "metadata": {},
   "outputs": [],
   "source": [
    "def transform(data):\n",
    "    log(\"In transform(): started\")\n",
    "    \n",
    "    # Round Price values to 2 decimal places\n",
    "    data[\"price\"] = round(data[\"price\"], 2)\n",
    "\n",
    "    log(\"In transform(): ended\")\n",
    "    return data"
   ]
  },
  {
   "cell_type": "markdown",
   "id": "bee8e62c",
   "metadata": {},
   "source": [
    "Afterwards, let's call the `transform()` method using the `extracted_data` as input."
   ]
  },
  {
   "cell_type": "code",
   "execution_count": 20,
   "id": "e44610c0",
   "metadata": {},
   "outputs": [],
   "source": [
    "transformed_data = transform(extracted_data)"
   ]
  },
  {
   "cell_type": "markdown",
   "id": "cfc10cc3",
   "metadata": {},
   "source": [
    "Let's look at the first few rows to see if the transformation was done properly:"
   ]
  },
  {
   "cell_type": "code",
   "execution_count": 21,
   "id": "ae141329",
   "metadata": {},
   "outputs": [
    {
     "name": "stdout",
     "output_type": "stream",
     "text": [
      "\n",
      "\n",
      "  car_model  year_of_manufacture     price    fuel\n",
      "0      ritz                 2014   5000.00  Petrol\n",
      "1       sx4                 2013   7089.55  Diesel\n",
      "2      ciaz                 2017  10820.90  Petrol\n",
      "3   wagon r                 2011   4253.73  Petrol\n",
      "4     swift                 2014   6865.67  Diesel\n"
     ]
    }
   ],
   "source": [
    "print('\\n')\n",
    "print(transformed_data.head())"
   ]
  },
  {
   "cell_type": "markdown",
   "id": "1501aef7",
   "metadata": {},
   "source": [
    "# Project Task 4: Define the Load method\n",
    "For the last task, we need to load the extracted and transformed data into a CSV file, which can be in turn loaded into a database. The loading to CSV file is easily done using Pandas `to_csv()` method.\n",
    "\n",
    "The filename for the output CSV file was previously defined as `TARGET_OUTPUT_FILE`.\n"
   ]
  },
  {
   "cell_type": "code",
   "execution_count": 22,
   "id": "a86e0aae",
   "metadata": {},
   "outputs": [],
   "source": [
    "def load_data(target_file, transformed_data):\n",
    "    log(f\"In load_data(): Loading data to file '{target_file}'\")\n",
    "    transformed_data.to_csv(target_file)\n",
    "    log(f\"In load_data(): Done loading data to file '{target_file}'\")"
   ]
  },
  {
   "cell_type": "markdown",
   "id": "387b6366",
   "metadata": {},
   "source": [
    "All that's left to do is to call the `load_data()` method specifying the output filename as `TARGET_OUTPUT_FILE` and the `transformed_data` data frame as the input."
   ]
  },
  {
   "cell_type": "code",
   "execution_count": 23,
   "id": "8ff3b32f",
   "metadata": {},
   "outputs": [],
   "source": [
    "load_data(TARGET_OUTPUT_FILE, transformed_data)\n",
    "log(\"ETL Job Ended\\n\")"
   ]
  },
  {
   "cell_type": "markdown",
   "id": "0e3056f9",
   "metadata": {},
   "source": [
    "# Checking the output file and logs\n",
    "Shown below are the contents of the output file of the ETL process."
   ]
  },
  {
   "cell_type": "code",
   "execution_count": 24,
   "id": "47c48795",
   "metadata": {},
   "outputs": [
    {
     "name": "stdout",
     "output_type": "stream",
     "text": [
      ",car_model,year_of_manufacture,price,fuel\n",
      "0,ritz,2014,5000.0,Petrol\n",
      "1,sx4,2013,7089.55,Diesel\n",
      "2,ciaz,2017,10820.9,Petrol\n",
      "3,wagon r,2011,4253.73,Petrol\n",
      "4,swift,2014,6865.67,Diesel\n",
      "5,vitara brezza,2018,13805.97,Diesel\n",
      "6,ciaz,2015,10074.63,Petrol\n",
      "7,s cross,2015,9701.49,Diesel\n",
      "8,ciaz,2016,13059.7,Diesel\n",
      "9,ciaz,2015,11119.4,Diesel\n",
      "10,alto 800,2017,4253.73,Petrol\n",
      "11,ciaz,2015,10223.88,Diesel\n",
      "12,ciaz,2015,11194.03,Petrol\n",
      "13,ertiga,2015,9104.48,Petrol\n",
      "14,dzire,2009,3358.21,Petrol\n",
      "15,ertiga,2016,11567.16,Diesel\n",
      "16,ertiga,2015,10820.9,Diesel\n",
      "17,ertiga,2016,11567.16,Diesel\n",
      "18,wagon r,2015,4850.75,CNG\n",
      "19,sx4,2010,3955.22,Petrol\n",
      "20,alto k10,2016,4253.73,Petrol\n",
      "21,ignis,2017,7313.43,Petrol\n",
      "22,sx4,2011,6567.16,Petrol\n",
      "23,alto k10,2014,3731.34,Petrol\n",
      "24,wagon r,2013,4328.36,Petrol\n",
      "25,swift,2011,4477.61,Petrol\n",
      "26,swift,2013,6194.03,Petrol\n",
      "27,swift,2017,8955.22,Petrol\n",
      "28,alto k10,2010,2910.45,Petrol\n",
      "29,ciaz,2015,11119.4,Diesel\n",
      "30,ritz,2012,4626.87,Diesel\n",
      "31,ritz,2011,3507.46,Petrol\n",
      "32,swift,2014,7388.06,Diesel\n",
      "33,ertiga,2014,8955.22,Diesel\n",
      "34,dzire,2014,8208.96,Diesel\n",
      "35,sx4,2011,4402.99,CNG\n",
      "36,dzire,2015,6940.3,Petrol\n",
      "37,800,2003,522.39,Petrol\n",
      "38,alto k10,2016,4477.61,Petrol\n",
      "39,sx4,2003,3358.21,Petrol\n",
      "40,baleno,2016,8731.34,Petrol\n",
      "41,alto k10,2014,3805.97,Petrol\n",
      "42,sx4,2008,2910.45,Petrol\n",
      "43,dzire,2014,8208.96,Diesel\n",
      "44,omni,2012,1865.67,Petrol\n",
      "45,ciaz,2014,11194.03,Petrol\n",
      "46,ritz,2013,3955.22,Petrol\n",
      "47,wagon r,2006,1567.16,Petrol\n",
      "48,ertiga,2015,8656.72,Petrol\n",
      "49,ciaz,2017,11567.16,Petrol\n",
      "50,fortuner,2012,22238.81,Diesel\n",
      "51,fortuner,2015,34328.36,Diesel\n",
      "52,innova,2017,26865.67,Diesel\n",
      "53,fortuner,2013,23880.6,Diesel\n",
      "54,innova,2005,4104.48,Petrol\n",
      "55,corolla altis,2009,5373.13,Petrol\n",
      "56,etios cross,2015,6716.42,Petrol\n",
      "57,corolla altis,2010,7089.55,Petrol\n",
      "58,etios g,2014,6119.4,Petrol\n",
      "59,fortuner,2014,29835.82,Diesel\n",
      "60,corolla altis,2013,10373.13,Petrol\n",
      "61,etios cross,2015,6716.42,Petrol\n",
      "62,fortuner,2014,27985.07,Diesel\n",
      "63,fortuner,2015,35074.63,Diesel\n",
      "64,fortuner,2017,49253.73,Diesel\n",
      "65,etios liva,2014,7089.55,Diesel\n",
      "66,innova,2017,29477.61,Petrol\n",
      "67,fortuner,2010,13805.97,Diesel\n",
      "68,corolla altis,2011,6492.54,Petrol\n",
      "69,corolla altis,2016,21268.66,Petrol\n",
      "70,etios liva,2014,5895.52,Diesel\n",
      "71,corolla altis,2011,6716.42,Diesel\n",
      "72,corolla altis,2013,11119.4,Petrol\n",
      "73,etios liva,2011,3955.22,Petrol\n",
      "74,etios cross,2014,7313.43,Diesel\n",
      "75,etios g,2015,5895.52,Petrol\n",
      "76,corolla altis,2013,8208.96,Petrol\n",
      "77,corolla,2004,2238.81,Petrol\n",
      "78,corolla altis,2010,7835.82,Petrol\n",
      "79,fortuner,2012,21641.79,Diesel\n",
      "80,corolla altis,2016,21985.07,Diesel\n",
      "81,etios gd,2015,7089.55,Diesel\n",
      "82,innova,2017,34328.36,Diesel\n",
      "83,innova,2015,18656.72,Diesel\n",
      "84,innova,2005,5208.96,Diesel\n",
      "85,camry,2006,3731.34,Petrol\n",
      "86,land cruiser,2010,52238.81,Diesel\n",
      "87,corolla altis,2012,8805.97,Petrol\n",
      "88,etios liva,2013,5149.25,Petrol\n",
      "89,etios g,2014,7089.55,Petrol\n",
      "\n"
     ]
    }
   ],
   "source": [
    "with open(TARGET_OUTPUT_FILE) as out_file:\n",
    "    print(out_file.read())"
   ]
  },
  {
   "cell_type": "markdown",
   "id": "1aaf5f51",
   "metadata": {},
   "source": [
    "We can also check the contents of the log file after the whole ETL process:"
   ]
  },
  {
   "cell_type": "code",
   "execution_count": 25,
   "id": "70a3da56",
   "metadata": {},
   "outputs": [
    {
     "name": "stdout",
     "output_type": "stream",
     "text": [
      "2025-Mar-25-10:46:47,In extract_from_csv(): Extracting from file 'datasource/used_car_prices1.csv'\n",
      "2025-Mar-25-10:46:49,In extract_from_json(): Extracting from file 'datasource/used_car_prices1.json'\n",
      "2025-Mar-25-10:46:50,In extract_from_xml(): Extracting from file 'datasource/used_car_prices1.xml'\n",
      "2025-Mar-25-10:46:50,ETL Job Started\n",
      "2025-Mar-25-10:46:50,In extract(): started\n",
      "2025-Mar-25-10:46:50,In extract(): start processing CSV files\n",
      "2025-Mar-25-10:46:50,In extract_from_csv(): Extracting from file 'datasource\\used_car_prices1.csv'\n",
      "2025-Mar-25-10:46:50,In extract_from_csv(): Extracting from file 'datasource\\used_car_prices2.csv'\n",
      "2025-Mar-25-10:46:50,In extract_from_csv(): Extracting from file 'datasource\\used_car_prices3.csv'\n",
      "2025-Mar-25-10:46:50,In extract(): done processing CSV files\n",
      "2025-Mar-25-10:46:50,In extract(): start processing JSON files\n",
      "2025-Mar-25-10:46:50,In extract_from_json(): Extracting from file 'datasource\\used_car_prices1.json'\n",
      "2025-Mar-25-10:46:50,In extract_from_json(): Extracting from file 'datasource\\used_car_prices2.json'\n",
      "2025-Mar-25-10:46:50,In extract_from_json(): Extracting from file 'datasource\\used_car_prices3.json'\n",
      "2025-Mar-25-10:46:50,In extract(): done processing JSON files\n",
      "2025-Mar-25-10:46:50,In extract(): start processing XML files\n",
      "2025-Mar-25-10:46:50,In extract_from_xml(): Extracting from file 'datasource\\used_car_prices1.xml'\n",
      "2025-Mar-25-10:46:50,In extract_from_xml(): Extracting from file 'datasource\\used_car_prices2.xml'\n",
      "2025-Mar-25-10:46:50,In extract_from_xml(): Extracting from file 'datasource\\used_car_prices3.xml'\n",
      "2025-Mar-25-10:46:50,In extract(): done processing XML files\n",
      "2025-Mar-25-10:46:50,In extract(): ended\n",
      "2025-Mar-25-10:46:51,In transform(): started\n",
      "2025-Mar-25-10:46:51,In transform(): ended\n",
      "2025-Mar-25-10:46:51,In load_data(): Loading data to file 'transformed_data.csv'\n",
      "2025-Mar-25-10:46:51,In load_data(): Done loading data to file 'transformed_data.csv'\n",
      "2025-Mar-25-10:46:51,ETL Job Ended\n",
      "\n",
      "\n"
     ]
    }
   ],
   "source": [
    "with open(LOG_FILE) as log_file:\n",
    "    print(log_file.read())"
   ]
  },
  {
   "cell_type": "markdown",
   "id": "ab7a4a50",
   "metadata": {},
   "source": [
    "# Acknowledgements\n",
    "## Course Instructors\n",
    "- Ramesh Sannareddy\n",
    "- Joseph Santarcangelo\n",
    "- Abhishek Gagneja\n",
    "## Course Offered By\n",
    "* [IBM Skills Network](https://www.coursera.org/partners/ibm-skills-network)"
   ]
  }
 ],
 "metadata": {
  "kernelspec": {
   "display_name": "Python 3",
   "language": "python",
   "name": "python3"
  },
  "language_info": {
   "codemirror_mode": {
    "name": "ipython",
    "version": 3
   },
   "file_extension": ".py",
   "mimetype": "text/x-python",
   "name": "python",
   "nbconvert_exporter": "python",
   "pygments_lexer": "ipython3",
   "version": "3.13.0"
  }
 },
 "nbformat": 4,
 "nbformat_minor": 5
}
